{
 "cells": [
  {
   "cell_type": "code",
   "execution_count": 61,
   "id": "41ece613-b363-47a0-8548-63d9b22c75e4",
   "metadata": {},
   "outputs": [
    {
     "name": "stdout",
     "output_type": "stream",
     "text": [
      "Election Results\n",
      "-------------------------\n",
      "Total Votes: 369711\n",
      "-------------------------\n",
      "Charles Casper Stockham:  23.049% (85213)\n",
      "Diana DeGette:  73.812% (272892)\n",
      "Raymon Anthony Doane:  3.139% (11606)\n"
     ]
    }
   ],
   "source": [
    "import csv\n",
    "import os\n",
    "\n",
    "file_to_load = os.path.join(\".\", \"Resources\", \"election_data.csv\")\n",
    "file_to_output = os.path.join(\".\", \"election_analysis.txt\")\n",
    "\n",
    "total_votes = 0\n",
    "candidate_votes = {}\n",
    "candidate_options = []\n",
    "winning_candidate = \"\"\n",
    "winning_count = 0\n",
    "\n",
    "with open(file_to_load) as election_data:\n",
    "    reader = csv.reader(election_data)\n",
    "    header = next(reader)\n",
    "    \n",
    "    for row in reader:\n",
    "        total_votes = total_votes + 1\n",
    "        candidate_name = row[2]\n",
    "\n",
    "        if candidate_name not in candidate_options:\n",
    "            candidate_options.append(candidate_name)\n",
    "            candidate_votes[candidate_name] = 0\n",
    "\n",
    "        candidate_votes[candidate_name] += 1\n",
    "\n",
    "with open(file_to_output, \"w\") as txt_file:\n",
    "    election_results = (\n",
    "        f\"Election Results\\n\"\n",
    "        f\"-------------------------\\n\"\n",
    "        f\"Total Votes: {total_votes}\\n\"\n",
    "        f\"-------------------------\\n\"  \n",
    "    )\n",
    "    print(election_results, end=\"\")\n",
    "    txt_file.write(election_results)\n",
    "\n",
    "    for candidate in candidate_votes:\n",
    "        votes = candidate_votes[candidate]\n",
    "        votes_percentage = float(votes) / float(total_votes) * 100\n",
    "\n",
    "        if(votes > winning_count):\n",
    "            winning_count = votes\n",
    "            winning_candidate = candidate\n",
    "\n",
    "        voter_output = f\"{candidate}: {votes_percentage: .3f}% ({votes})\\n\"\n",
    "\n",
    "        print(voter_output, end=\"\")\n",
    "        txt_file.write(voter_output)\n",
    "\n",
    "#with open(file_to_output, \"w\") as txt_file:\n",
    "        \n",
    "\n",
    "#Election Results\n",
    "#-------------------------\n",
    "#Total Votes: 369711\n",
    "#-------------------------\n",
    "#Charles Casper Stockham: 23.049% (85213)\n",
    "#Diana DeGette: 73.812% (272892)\n",
    "#Raymon Anthony Doane: 3.139% (11606)\n",
    "#-------------------------\n",
    "#Winner: Diana DeGette\n",
    "#-------------------------"
   ]
  },
  {
   "cell_type": "code",
   "execution_count": null,
   "id": "6e8759b1-2759-4a75-9eb9-f024d20f0f9e",
   "metadata": {},
   "outputs": [],
   "source": []
  }
 ],
 "metadata": {
  "kernelspec": {
   "display_name": "Python 3 (ipykernel)",
   "language": "python",
   "name": "python3"
  },
  "language_info": {
   "codemirror_mode": {
    "name": "ipython",
    "version": 3
   },
   "file_extension": ".py",
   "mimetype": "text/x-python",
   "name": "python",
   "nbconvert_exporter": "python",
   "pygments_lexer": "ipython3",
   "version": "3.11.7"
  }
 },
 "nbformat": 4,
 "nbformat_minor": 5
}
